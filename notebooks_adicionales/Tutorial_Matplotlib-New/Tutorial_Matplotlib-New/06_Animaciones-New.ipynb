{
 "cells": [
  {
   "cell_type": "markdown",
   "metadata": {},
   "source": [
    "# Tutorial de Matplotlib: 6. Animaciones"
   ]
  },
  {
   "cell_type": "markdown",
   "metadata": {},
   "source": [
    "Creado y traducido por [Pedro González Rodelas](https://www.ugr.es/~prodelas/) a partir de un notebook incluido en el siguiente [Tutorial de Matplotlib de astroML](http://jakevdp.github.io/mpl_tutorial/index.html)\n",
    "\n",
    "        Última revisión: 10/04/2020"
   ]
  },
  {
   "cell_type": "markdown",
   "metadata": {},
   "source": [
    "`Matplotlib` también posee una infraestructura que permite realizar animaciones: los ejemplos siguientes funcionarán con las nuevas versiones de dicho módulo. No obstante, esta infraestructura será independiente del backend gráfico usado para generar estas animaciones, siendo bastante potente y versátil (para revisar algunos ejemplos interesantes, puede consultar alguno de los posts del siguiente [blog](http://jakevdp.github.com/blog/2012/08/18/matplotlib-animation-tutorial/) o bien [este](http://jakevdp.github.com/blog/2012/09/05/quantum-python/))\n",
    "\n",
    "De momento tan sólo crearemos algún ejemplo básico de una onda sinusoidal animada.\n",
    "\n",
    "En este caso será vital **no** usar pylab en modo `inline`, ya que por defecto las figuras `inline` son estáticas."
   ]
  },
  {
   "cell_type": "code",
   "execution_count": 1,
   "metadata": {},
   "outputs": [
    {
     "data": {
      "text/plain": [
       "True"
      ]
     },
     "execution_count": 1,
     "metadata": {},
     "output_type": "execute_result"
    }
   ],
   "source": [
    "# Como siempre, empezaremos importando los módulos habituales\n",
    "import numpy as np\n",
    "import matplotlib.pyplot as plt\n",
    "# aparte del módulo específico de animación de matplotlib\n",
    "from matplotlib.animation import *\n",
    "plt.isinteractive()     # nos aseguramos de que estemos en modo interactivo"
   ]
  },
  {
   "cell_type": "code",
   "execution_count": 4,
   "metadata": {},
   "outputs": [
    {
     "data": {
      "image/png": "[encoded data removed]",
      "text/plain": [
       "<Figure size 432x288 with 1 Axes>"
      ]
     },
     "metadata": {
      "needs_background": "light"
     },
     "output_type": "display_data"
    }
   ],
   "source": [
    "def data_gen():\n",
    "    for cnt in range(1000):\n",
    "        t = cnt / 10\n",
    "        yield t, np.sin(2*np.pi*t) * np.exp(-t/10.)\n",
    "\n",
    "\n",
    "def init():\n",
    "    ax.set_ylim(-1.1, 1.1)\n",
    "    ax.set_xlim(0, 10)\n",
    "    del xdata[:]\n",
    "    del ydata[:]\n",
    "    line.set_data(xdata, ydata)\n",
    "    return line,\n",
    "\n",
    "fig, ax = plt.subplots()\n",
    "line, = ax.plot([], [], lw=2)\n",
    "ax.grid()\n",
    "xdata, ydata = [], []\n",
    "\n",
    "\n",
    "def run(data):\n",
    "    # update the data\n",
    "    t, y = data\n",
    "    xdata.append(t)\n",
    "    ydata.append(y)\n",
    "    xmin, xmax = ax.get_xlim()\n",
    "\n",
    "    if t >= xmax:\n",
    "        ax.set_xlim(xmin, 2*xmax)\n",
    "        ax.figure.canvas.draw()\n",
    "    line.set_data(xdata, ydata)\n",
    "\n",
    "    return line,\n",
    "\n",
    "anim = FuncAnimation(fig, run, data_gen, blit=False, interval=10,\n",
    "                              repeat=False, init_func=init)\n",
    "plt.show()"
   ]
  },
  {
   "cell_type": "code",
   "execution_count": 7,
   "metadata": {},
   "outputs": [],
   "source": [
    "anim.save('animacion_1.avi', fps=30, codec='libx264')\n",
    "anim.save('animacion_1.mp4', fps=30, codec='libx264')"
   ]
  },
  {
   "cell_type": "markdown",
   "metadata": {},
   "source": [
    "Hay diferentes maneras de generar la animación; por ejemplo  ``ArtistAnimation`` anima una lista de elementos gráficos, mostrando sólo uno cada vez.  ``TimedAnimation`` puede ser generado a partir de subclases para crear animaciones muy flexibles.  ``FuncAnimation`` creará las animaciones usando una función definida por el usuario que actualizará los elementos de la animación frame a frame. Usaremos ``FuncAnimation`` a continuación, ya que esto hará más claro cómo funciona."
   ]
  },
  {
   "cell_type": "code",
   "execution_count": 9,
   "metadata": {},
   "outputs": [
    {
     "data": {
      "image/png": "[encoded data removed]",
      "text/plain": [
       "<Figure size 432x288 with 1 Axes>"
      ]
     },
     "metadata": {
      "needs_background": "light"
     },
     "output_type": "display_data"
    }
   ],
   "source": [
    "fig, ax = plt.subplots()\n",
    "xdata, ydata = [], []\n",
    "ln, = plt.plot([], [], 'ro')\n",
    "\n",
    "def init():\n",
    "    ax.set_xlim(0, 2*np.pi)\n",
    "    ax.set_ylim(-1, 1)\n",
    "    return ln,\n",
    "\n",
    "def update(frame):\n",
    "    xdata.append(frame)\n",
    "    ydata.append(np.sin(frame))\n",
    "    ln.set_data(xdata, ydata)\n",
    "    return ln,\n",
    "\n",
    "anim = FuncAnimation(fig, update, frames=np.linspace(0, 2*np.pi, 128),\n",
    "                    init_func=init, blit=True)\n",
    "plt.show()"
   ]
  },
  {
   "cell_type": "code",
   "execution_count": 10,
   "metadata": {},
   "outputs": [],
   "source": [
    "anim.save('animacion_2.avi', fps=30, codec='libx264')\n",
    "anim.save('animacion_2.mp4', fps=30, codec='libx264')"
   ]
  },
  {
   "cell_type": "code",
   "execution_count": 11,
   "metadata": {},
   "outputs": [
    {
     "data": {
      "image/png": "[encoded data removed]",
      "text/plain": [
       "<Figure size 432x288 with 1 Axes>"
      ]
     },
     "metadata": {
      "needs_background": "light"
     },
     "output_type": "display_data"
    }
   ],
   "source": [
    "# En primer lugar configuraremos la figura, el eje, \n",
    "fig, ax = plt.subplots()  # y el elemento gráfico que queremos animar\n",
    "ax.set_xlim(0, 2)\n",
    "ax.set_ylim(-2, 2)\n",
    "\n",
    "x = np.linspace(0, 2, 1000)\n",
    "y = np.zeros_like(x)\n",
    "\n",
    "line, = ax.plot(x, y, lw=2)\n",
    "\n",
    "# función de inicialización: mostrando el fondo de cada frame\n",
    "def init():\n",
    "    line.set_data([], [])\n",
    "    return line,\n",
    "\n",
    "# función de animación, que será llamada secuencialmente\n",
    "def animate(i):\n",
    "    y = np.sin(2 * np.pi * (x - 0.01 * i))\n",
    "    line.set_data(x, y)\n",
    "    return line,\n",
    "\n",
    "# llamando al animador con las opciones indicadas\n",
    "anim = FuncAnimation(fig, animate, init_func=init,\n",
    "                               frames=200, interval=20, blit=True)\n",
    "#  como blit=True para que redibuje sólo las partes que cambien.\n",
    "plt.show()"
   ]
  },
  {
   "cell_type": "markdown",
   "metadata": {},
   "source": [
    "También podríamos generar una animacion y grabarla en formato mp4. Esto requiere el uso de `ffmpeg` o `mencoder` por lo que alguno de ellos debería estar correctamente instalado en el sistema. El argumento de codec asegurará que usaremos un code x264, de manera que el video final pueda ser embebido en html5. Para ello, si necesita ajustarlo en sus sistema, puede revisar la siguiente [informacion](http://matplotlib.sourceforge.net/api/animation_api.html)"
   ]
  },
  {
   "cell_type": "code",
   "execution_count": 12,
   "metadata": {},
   "outputs": [],
   "source": [
    "anim.save('animacion_3.avi', fps=30, codec='libx264')\n",
    "anim.save('animacion_3.mp4', fps=30, codec='libx264')"
   ]
  },
  {
   "cell_type": "code",
   "execution_count": 13,
   "metadata": {},
   "outputs": [
    {
     "data": {
      "text/plain": [
       "'C:\\\\Users\\\\Usuario\\\\Dropbox (DropBox Básico)\\\\Cursos\\\\Python\\\\Centro Mediterráneo\\\\Sesiones\\\\Sesión 4\\\\MatplotlibTutorial'"
      ]
     },
     "execution_count": 13,
     "metadata": {},
     "output_type": "execute_result"
    }
   ],
   "source": [
    "%pwd"
   ]
  },
  {
   "cell_type": "code",
   "execution_count": 14,
   "metadata": {},
   "outputs": [
    {
     "name": "stdout",
     "output_type": "stream",
     "text": [
      " El volumen de la unidad C no tiene etiqueta.\n",
      " El n£mero de serie del volumen es: 8AEE-E6FD\n",
      "\n",
      " Directorio de C:\\Users\\Usuario\\Dropbox (DropBox B sico)\\Cursos\\Python\\Centro Mediterr neo\\Sesiones\\Sesi¢n 4\\MatplotlibTutorial\n",
      "\n",
      "10/04/2020  03:19            28.246 animacion_1.avi\n",
      "10/04/2020  03:20            19.886 animacion_2.avi\n",
      "10/04/2020  03:20            52.092 animacion_3.avi\n",
      "10/04/2020  03:15            52.092 basic_animation.avi\n",
      "               4 archivos        152.316 bytes\n",
      "               0 dirs  384.132.321.280 bytes libres\n"
     ]
    }
   ],
   "source": [
    "%ls *.avi"
   ]
  },
  {
   "cell_type": "markdown",
   "metadata": {},
   "source": [
    "**Ejercicio:** Modifique el código anterior para añadir una segunda onda que viaje hacia la izquierda, en vez de hacia la derecha."
   ]
  }
 ],
 "metadata": {
  "kernelspec": {
   "display_name": "Python 3",
   "language": "python",
   "name": "python3"
  },
  "language_info": {
   "codemirror_mode": {
    "name": "ipython",
    "version": 3
   },
   "file_extension": ".py",
   "mimetype": "text/x-python",
   "name": "python",
   "nbconvert_exporter": "python",
   "pygments_lexer": "ipython3",
   "version": "3.7.6"
  }
 },
 "nbformat": 4,
 "nbformat_minor": 1
}
