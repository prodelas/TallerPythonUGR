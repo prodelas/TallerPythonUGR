{
 "cells": [
  {
   "cell_type": "markdown",
   "metadata": {},
   "source": [
    "# JORNADAS DE \n",
    "# SOFTWARE LIBRE DE LA\n",
    "# UNIVERSIDAD DE GRANADA\n",
    "### Granada, 27 y 28 de septiembre de 2018\n",
    "[http://osl.ugr.es/JSLUGR/](http://osl.ugr.es/JSLUGR/)"
   ]
  },
  {
   "cell_type": "markdown",
   "metadata": {},
   "source": [
    "# Taller de Python"
   ]
  },
  {
   "cell_type": "markdown",
   "metadata": {},
   "source": [
    "### [Pedro González Rodelas: ](http://www.ugr.es/~prodelas/) [prodelas@ugr.es](mailto:prodelas@ugr.es) y\n",
    "### [Fco. Miguel García Olmedo: ](http://www.ugr.es/~folmedo/) [folmedo@ugr.es](mailto:folmedo@ugr.es)."
   ]
  },
  {
   "cell_type": "markdown",
   "metadata": {},
   "source": [
    "El objetivo de este mini-taller es __iniciaros desde cero en el lenguaje de programación [Python](https://www.python.org/), así como daros a conocer distintas posibilidades de instalación y entornos de desarrollo ([IDEs](https://es.wikipedia.org/wiki/Entorno_de_desarrollo_integrado)).__\n",
    "\n",
    "__Nuestra herramienta fundamental de trabajo para ello será  un [Notebook de Jupyter](http://jupyter.org/)__ como este que estás usando en este momento. Durante este corto taller te familiarizarás con este tipo de ficheros y aprenderás a abrirlos/crearlos, manejarlos y editarlos adecuadamente, así como convertirlos a otros formatos de fichero.\n",
    "\n",
    "Naturalmente que este taller inicial sólo pretende ser eso, una visión general y una presentación de los conceptos y pasos fundamentales a seguir para que __una vez instalado Python, tengas la posibilidad de descargar parte de la ingente cantidad de material libremente disponible y puedas seguir aprendiendo a tu ritmo durante todo el tiempo que desees.__ \n",
    "\n",
    "\n",
    "Recuerda, que tanto este notebook como bastante material adicional se encuentra disponible en [nuestro repositorio: https://github.com/prodelas/TallerPythonUGR/](https://github.com/prodelas/TallerPythonUGR/).\n",
    "\n",
    "_¡¡Ánimo y, manos a la obra!!_\n"
   ]
  },
  {
   "cell_type": "markdown",
   "metadata": {},
   "source": [
    "## Pasos a seguir:"
   ]
  },
  {
   "cell_type": "markdown",
   "metadata": {},
   "source": [
    "### 1. Descarga de Python."
   ]
  },
  {
   "cell_type": "markdown",
   "metadata": {},
   "source": [
    "La instalación manual de Python, el servidor de Notebooks de Jupyter y todos los paquetes y módulos que utilizaremos, puede ser una tarea ardua y agotadora, pero no te preocupes: ¡alguien ha hecho ya el trabajo duro!\n",
    "\n",
    "__[Anaconda](https://www.anaconda.com/what-is-anaconda/) es una distribución de Python que recopila muchas de las bibliotecas necesarias en el ámbito de la computación científica__ y desde luego, todas las que necesitaremos en este taller. Además __incluye herramientas para programar en Python, como el [IPython Notebook](https://ipython.org/index.html) y [Spyder](https://code.google.com/p/spyderlib/)__ (un IDE al estilo de [MATLAB](https://es.mathworks.com/products/matlab.html)). Si además alguna vez también has sido ususario de [Mathematica](https://www.wolfram.com/mathematica/) habrás notado por otra parte que el concepto de Notebook y servidor de cálculos que estás usando responde también completamente al útil y versátil planteamiento del FrontEnd + Kernel del que ya disponía [Mathematica desde las primeras versiones](http://www.wolfram.com/mathematica/scrapbook/). Por lo que se podría decir que a este respecto, el sistema de Notebooks de Jupyter y los entornos de desarrollo para Python unifican y poseen lo mejor de ambas plataformas de software propietario, hasta hace muy poco predominantes en el mundo del desarrollo y la investigación Científica y Técnica. __Y además de todo esto, resulta completamente gratuito y está en continua e [imparable expansión](https://stackoverflow.blog/2017/09/06/incredible-growth-python/) y [desarrollo](https://www.peerbits.com/blog/factors-will-drive-python-growth-in-2018.html). ¡Creo que no se podría pedir más!__. "
   ]
  },
  {
   "cell_type": "markdown",
   "metadata": {},
   "source": [
    "Lo único que necesitas hacer es:\n",
    "\n",
    "* Ir a la [página de descargas de Anaconda](https://www.anaconda.com/download/).\n",
    "* Seleccionar tu sistema operativo (Windows, OSX, Linux).\n",
    "* Descargar Anaconda (utilizaremos en principio Python 3.X)."
   ]
  },
  {
   "cell_type": "markdown",
   "metadata": {},
   "source": [
    "<img src=\"./images/download_anaconda.png\" alt=\"Download\" />"
   ]
  },
  {
   "cell_type": "markdown",
   "metadata": {},
   "source": [
    "### 2. Instalación de Python."
   ]
  },
  {
   "cell_type": "markdown",
   "metadata": {},
   "source": [
    "Consulta las __[instrucciones de instalación](http://docs.continuum.io/anaconda/install.html)__ de Anaconda para tu sistema operativo. En el caso de Windows y OS X, te encontrarás con los típicos instaladores gráficos a los que ya estás acostumbrado. Si te encuentras en Linux, deberás ejecutar el script de instalación desde la consola de comandos, así que recuerda comprobar que tienes bash instalado y asignar permisos de ejecución al script.\n",
    "\n",
    "En caso de que tengas cualquier caso de duda durante el proceso, recuerda que __¡los buscadores de internet son tus mejores amigos!__\n",
    "\n",
    "¡Muy bien! Ya tienes instalado ¿pero dónde?\n",
    "\n",
    "* En __Windows__, desde `Inicio > Anaconda` verás una serie de herramientas de las que ahora dispones ¡no tengas miedo de abrirlas! \n",
    "\n",
    "* En __OS X__, podrás acceder a un launcher con las mismas herramientas desde la carpeta `anaconda` dentro de tu carpeta personal de aplicaciones. \n",
    "\n",
    "* En __Linux__, debido al gran número de combinaciones de distribuciones más escritorios no tendrás esos accesos directos gráficos (lo que no quiere decir que no puedas crearlos tú a posteriori), aunque no hacen ninguna falta si te manejas bien con tu distribución Linux o simplemente abres las aplicaciones dedes una terminal de comandos.\n",
    "\n",
    "Por otra parte, de vez en cuando convendrá __actualizar Anaconda__ para asegurarnos de que tenemos nuestra distribución de Python con todos sus paquetes al día. No tienes porqué hacerlo ahora mismo, pero tal vez en casa tranquilamente y con una buena conexión a Internet podrías abrir una __ventana de comandos__ (Anaconda Prompt en Windows, o una simmple terminal en OS X y Linux) y ejecutar los siguientes comandos de actualización (confirmando en el caso de tener que instalar paquetes nuevos):\n",
    "\n",
    "```\n",
    "conda update anaconda\n",
    "conda update --all\n",
    "```\n",
    "\n",
    "Si experimentas cualquier clase de problema durante este proceso, desinstálala y vuelve a [instalarla](http://docs.continuum.io/anaconda/install.html) donde puedas asegurarte de tener una conexión a internet estable. Si el problema fuera simplemente falta de espacio en disco, podrías comenzar con una instalación minimalista a través de [Miniconda](https://conda.io/miniconda.html) e ir instalando poco a poco sólo los módulos y paquetes necesarios mediante el comando \n",
    "```\n",
    "conda install paquete\n",
    "\n",
    "```\n",
    "\n",
    "También para usuarios más avanzados de sistemas tipo Linux siempre existe la posibilidad de instalación personalizada de todo el sistema via __apt-get__ y dentro de una terminal de sistema a través de __pip__ en vez de con __conda__, pero esto no será objeto de esta pequeña introducción y hay innumerable documentación, tanto en sitios web, blogs y chats de usuarios avanzados, entre los que cabría destacar [StackOverflow](https://stackoverflow.com/).\n",
    "\n",
    "Ya tenemos nuestra distribución de Python con todos los paquetes que necesitemos (y prácticamente casi todos los que en un futuro podamos necesitar). \n",
    "\n",
    "_¡A trabajar!_\n"
   ]
  },
  {
   "cell_type": "markdown",
   "metadata": {},
   "source": [
    "### 3. Descarga del material del taller."
   ]
  },
  {
   "cell_type": "markdown",
   "metadata": {},
   "source": [
    "El material de este taller, y mucho más material adicional, está disponible en __GitHub, una plataforma para alojar proyectos de software que también  proporciona una serie de herramientas para el trabajo en equipo__. Digamos que es una especie de red social-herramienta para escribir y compartir código. (No te preocupes, no necesitarás saber nada sobre ella de momento)."
   ]
  },
  {
   "cell_type": "markdown",
   "metadata": {},
   "source": [
    "Simplemente ve a nuestro  [repositorio en GitHub](https://github.com/prodelas/TallerPythonUGR/), y en la parte derecha encontrarás un botón __*Clone or download*__ como éste: ![](./images/download_zip.png) \n",
    "\n",
    "Púlsalo, selecciona __*Download Zip*__, __guarda el archivo__ en tu ordenador y __descomprímelo__. "
   ]
  },
  {
   "cell_type": "markdown",
   "metadata": {},
   "source": [
    "### 4. Utilización del material del taller."
   ]
  },
  {
   "cell_type": "markdown",
   "metadata": {},
   "source": [
    "Una vez que instalado Python y descargado el material del taller, para poder utilizarlo debes __abrir una pestaña de un navegador compatible con el servidor de comandos del núcleo de Jupyter, ya sea a través de Anaconda Navigator (lanzando Jupyter Notebook o JupyterLab con el ratón), o bien a través de una terminal situada en la carpeta que has descomprimido, o cualquier otra donde quieras trabajar__"
   ]
  },
  {
   "cell_type": "markdown",
   "metadata": {},
   "source": [
    "Así pues en una ventana de terminal (o de Anaconda Prompt en Windows) se abrirá una línea de comandos, después de situarte en el directorio de trabajo elegido (mediante la orden de cambio de directorio __cd__ ) teclea en ella:\n",
    "\n",
    "`jupyter notebook` \n",
    "\n",
    "y pulsa Intro.\n",
    "\n",
    "__¡Es importante que la dirección que aparezca en la línea de comandos sea la correspondiente a la carpeta donde se quiera trabajar, ya que en caso contrario determinados elementos como las imágenes incrustadas no se visualizarán correctamente!__\n",
    "\n",
    "Aparecerán unas cuantas líneas y __se abrirá tu navegador web predefinido. __No hace falta disponer de conexión a Internet__. Lo que está ocurriendo es que *\"tu navegador está mostrando lo que le manda el programa que se está ejecutando desde la línea de comandos\"*__ (entiéndelo así de momento y ya tendrás tiempo de profundizar si quieres). De hecho si has usado Mathematica alguna vez, la estructura de Kernels + FrontEnd emplea justo esta misma filosofía de trabajo; la única diferencia ahora es que la visualización de las celdillas de entrada/salida, texto, y demás formateo del notebook se realiza directamente en una pestaña del navegador en vez de en una aplicación tipo FrontEnd propietaria.\n",
    "\n",
    "__Así que no cierres la terminal de la línea de comandos hasta que termines de usar el notebook y ya lo hayas guardado y cerrado en tu navegador.__"
   ]
  },
  {
   "cell_type": "markdown",
   "metadata": {},
   "source": [
    "---\n",
    "También es posible cambiar el estilo de este notebook (letra, colores...) sin más que cargar un estilo concreto de Notebook.\n",
    "_Las siguientes celdas contienen configuración del Notebook_\n",
    "basada en una plantilla previamente usada por \n",
    "\n",
    "- Lorena Barba en el correspondiente repositorio creado al efecto para uno de los cursos MOOC sobre métodos numéricos:\n",
    "\n",
    "https://github.com/numerical-mooc/numerical-mooc\n",
    "\n",
    "así como por \n",
    "\n",
    "- Juan Luis Cano, Mabel Delgado y Álex Sáez para su curso de AeroPython. Consulta su [repositorio del curso en GitHub](https://github.com/AeroPython/curso_caminos-2016)"
   ]
  },
  {
   "cell_type": "code",
   "execution_count": 1,
   "metadata": {},
   "outputs": [
    {
     "data": {
      "text/html": [
       "/* This template is inspired in the one used by Lorena Barba\n",
       "in the numerical-mooc repository: https://github.com/numerical-mooc/numerical-mooc\n",
       "We thank her work and hope you also enjoy the look of the notobooks with this style */\n",
       "\n",
       "<link href='http://fonts.googleapis.com/css?family=Source+Sans+Pro|Josefin+Sans:400,700,400italic|Ubuntu+Condensed' rel='stylesheet' type='text/css'>\n",
       "\n",
       "El estilo se ha aplicado =)\n",
       "\n",
       "<style>\n",
       "\n",
       "\n",
       "\n",
       "#notebook_panel { /* main background */\n",
       "    background: #f7f7f7;\n",
       "}\n",
       "\n",
       "div.cell { /* set cell width */\n",
       "    width: 900px;\n",
       "}\n",
       "\n",
       "div #notebook { /* centre the content */\n",
       "    background: #fff; /* white background for content */\n",
       "    width: 950px;\n",
       "    margin: auto;\n",
       "    padding-left: 0em;\n",
       "}\n",
       "\n",
       "#notebook li { /* More space between bullet points */\n",
       "    margin-top:0.7em;\n",
       "}\n",
       "\n",
       "/* draw border around running cells */\n",
       "div.cell.border-box-sizing.code_cell.running { \n",
       "    border: 1px solid #111;\n",
       "}\n",
       "\n",
       "/* Put a solid color box around each cell and its output, visually linking them*/\n",
       "div.cell.code_cell {\n",
       "    font-family: 'Source Sans Pro', sans-serif;\n",
       "    background-color: rgb(256,256,256);\n",
       "    font-size: 110%;\n",
       "    border-radius: 0px; \n",
       "    padding: 0.5em;\n",
       "    margin-left:1em;\n",
       "    margin-top: 1em;\n",
       "}\n",
       "\n",
       "div.text_cell_render{\n",
       "    font-family: 'Josefin Sans', serif;\n",
       "    line-height: 145%;\n",
       "    font-size: 125%;\n",
       "    font-weight: 500;\n",
       "    width:750px;\n",
       "    margin-left:auto;\n",
       "    margin-right:auto;\n",
       "}\n",
       "\n",
       "\n",
       "/* Formatting for header cells */\n",
       ".text_cell_render h1, .text_cell_render h2, .text_cell_render h3,\n",
       ".text_cell_render h4, .text_cell_render h5 {\n",
       "    font-family: 'Ubuntu Condensed', sans-serif;\n",
       "}\n",
       "/*\n",
       ".text_cell_render h1 {\n",
       "    font-family: Flux, 'Ubuntu Condensed', serif;\n",
       "    font-style:regular;\n",
       "    font-weight: 400;    \n",
       "    font-size: 30pt;\n",
       "    text-align: center;\n",
       "    line-height: 100%;\n",
       "    color: #335082;\n",
       "    margin-bottom: 0.5em;\n",
       "    margin-top: 0.5em;\n",
       "    display: block;\n",
       "}\n",
       "*/\n",
       ".text_cell_render h1 {\n",
       "    font-weight: 600;\n",
       "    font-size: 35pt;\n",
       "    line-height: 100%;\n",
       "    color: #000000;\n",
       "    margin-bottom: 0.1em;\n",
       "    margin-top: 0.3em;\n",
       "    display: block;\n",
       "}\n",
       "\n",
       ".text_cell_render h2 {\n",
       "    margin-top:16px;\n",
       "    font-size: 27pt;\n",
       "    font-weight: 550;\n",
       "    margin-bottom: 0.1em;\n",
       "    margin-top: 0.3em;\n",
       "    font-style: regular;\n",
       "    color: #2c6391;\n",
       "}\t\n",
       "\n",
       ".text_cell_render h3 {\n",
       "    font-size: 20pt;\n",
       "    font-weight: 550\n",
       "    text-align: left;\n",
       "    margin-bottom: 0.1em;\n",
       "    margin-top: 0.3em;\n",
       "    font-style: regular;\n",
       "    color:  #387eb8;\n",
       "}\n",
       "\n",
       ".text_cell_render h4 {    /*Use this for captions*/\n",
       "    font-size: 18pt;\n",
       "    font-weight: 450\n",
       "    text-align: left;\n",
       "    margin-bottom: 0.1em;\n",
       "    margin-top: 0.3em;\n",
       "    font-style: regular;\n",
       "    color:  #5797cc;\n",
       "}\n",
       "\n",
       ".text_cell_render h5 {  /*Use this for small titles*/\n",
       "    font-size: 18pt;\n",
       "    font-weight: 550;\n",
       "    color: rgb(163,0,0);\n",
       "    font-style: italic;\n",
       "    margin-bottom: .1em;\n",
       "    margin-top: 0.8em;\n",
       "    display: block;\n",
       "    color:  #b21c0d;\n",
       "}\n",
       "\n",
       ".text_cell_render h6 { /*use this for copyright note*/\n",
       "    font-family: 'Ubuntu Condensed', sans-serif;\n",
       "    font-weight: 300;\n",
       "    font-size: 14pt;\n",
       "    line-height: 100%;\n",
       "    color: #252525;\n",
       "    text-align: right;\n",
       "    margin-bottom: 1px;\n",
       "    margin-top: 1px;\n",
       "}\n",
       "\n",
       ".CodeMirror{\n",
       "        font-family: 'Duru Sans', sans-serif;\n",
       "        font-size: 100%;\n",
       "}\n",
       "\n",
       "</style>\n",
       "<script>\n",
       "    MathJax.Hub.Config({\n",
       "                        TeX: {\n",
       "                           extensions: [\"AMSmath.js\"],\n",
       "                           equationNumbers: { autoNumber: \"AMS\", useLabelIds: true}\n",
       "                           },\n",
       "                tex2jax: {\n",
       "                    inlineMath: [ ['$','$'], [\"\\\\(\",\"\\\\)\"] ],\n",
       "                    displayMath: [ ['$$','$$'], [\"\\\\[\",\"\\\\]\"] ]\n",
       "                },\n",
       "                displayAlign: 'center', // Change this to 'center' to center equations.\n",
       "                \"HTML-CSS\": {\n",
       "                    styles: {'.MathJax_Display': {\"margin\": 4}}\n",
       "                }\n",
       "        });\n",
       "</script>\n"
      ],
      "text/plain": [
       "<IPython.core.display.HTML object>"
      ]
     },
     "execution_count": 1,
     "metadata": {},
     "output_type": "execute_result"
    }
   ],
   "source": [
    "# Esta celda da el estilo al notebook\n",
    "from IPython.core.display import HTML\n",
    "css_file = './styles/aeropython.css'\n",
    "HTML(open(css_file, \"r\").read())"
   ]
  },
  {
   "cell_type": "markdown",
   "metadata": {},
   "source": [
    "En este corto taller sólo podremos hacer una pequeña introducción a Python. __Lee el principio con calma__ para saber cómo manejar el Notebook (también puedes usar la ayuda `Help > User Interface Tour` ) y __no tengas miedo de tocar y cambiar cosas a tu antojo__. No vas a romper tu ordenador y a las malas, siempre puedes volverte a descargar todo de GitHub.\n",
    "\n",
    "En esa ventana de tu navegador puedes moverte por las sub-carpetas del directorio de trabajo y ver los archivos con extensión `.ipynb`. __Ve a la carpeta `Notebooks Adicionales` y abre alguno de los allí guardados haciendo click sobre ella.__ "
   ]
  },
  {
   "cell_type": "markdown",
   "metadata": {},
   "source": [
    "<!--NAVIGATION-->\n",
    "\n",
    "< [Notebooks Adicionales](.\\notebooks_adicionales) | [Introducción a IPython y Jupyter Notebook ](.\\notebooks_adicionales\\JupyterNotebookyPythonBasico.ipynb) | >\n",
    "\n",
    "< [Notebooks Adicionales](./notebooks_adicionales) | [Computación científica con IPython](.\\notebooks_adicionales\\Python_para_CalculoCientifico.ipynb) | >\n",
    "\n",
    "< [Notebooks Adicionales](.\\notebooks_adicionales) | [Introducción a la programación con Python ](.\\notebooks_adicionales\\Introduc_Python_y_modulos_adicionales.ipynb) | >\n",
    "\n",
    "< [Notebooks Adicionales](./notebooks_adicionales) | [SciPy: Módulo de Python para Cálculo Científico ](.\\notebooks_adicionales\\SciPy.ipynb) | >\n",
    "\n",
    "< [Notebooks Adicionales](.\\notebooks_adicionales) | [Ejemplo de práctica docente ](.\\notebooks_adicionales\\Practica_Derivacion_Integracion_Numerica.ipynb) | >\n",
    "\n",
    "< [Notebooks Adicionales](.\\notebooks_adicionales) | [Ejemplos en investigación ](.\\notebooks_adicionales\\Ejemplos_Investigacion.ipynb) | >"
   ]
  },
  {
   "cell_type": "markdown",
   "metadata": {},
   "source": [
    "##### ¡Ya estás listo para empezar a practicar y aprender con el material adicional de este taller por tu cuenta durante mucho tiempo! \n",
    "\n",
    "##### Y si no, tan sólo tienes que esperar para apuntarte a alguno de los cursos que se programarán próximamente tanto a través de la Fundación UGR-Empresa, Centro Mediterráneo, así como formando parte del Plan F.I.D.O. de la UGR."
   ]
  },
  {
   "cell_type": "markdown",
   "metadata": {},
   "source": [
    "#### También puedes consultar algunos libros y recursos sobre Python, como libros, cursos online, etc.\n",
    "\n",
    "* [\"Automate the Boring Stuff with Python\" by Al Sweigart](http://automatetheboringstuff.com/)   \n",
    "(Free to read under a Creative Commons license) \n",
    "* [\"Effective Computation in Physics\" by Anthony Scopatz, Kathryn Huff](http://shop.oreilly.com/product/0636920033424)\n",
    "* [\"Python Data Science Handbook\" by Jake VanderPlas](http://shop.oreilly.com/product/0636920034919)   \n",
    "(contenido disponible en [GitHub](https://github.com/jakevdp/PythonDataScienceHandbook))\n",
    "* Así como una galería muy interesante sobre Notebooks de IPython (que también se pueden visualizar con la ayuda de [nbviewer](http://nbviewer.jupyter.org/)) en el siguiente link: [https://github.com/jupyter/jupyter/wiki/A-gallery-of-interesting-Jupyter-Notebooks](https://github.com/jupyter/jupyter/wiki/A-gallery-of-interesting-Jupyter-Notebooks)"
   ]
  },
  {
   "cell_type": "markdown",
   "metadata": {},
   "source": [
    "\n",
    "###### Este notebook y gran parte del material para este taller ha sido realizado por: \n",
    "\n",
    "###### Pedro González Rodelas y Fco. Miguel García Olmedo \n",
    "\n",
    "###### usando parte del material empleado en varios cursos sobre Python impartidos durante los últimos años.\n",
    "\n",
    "\n",
    "###### Y varios notebooks, estilos y plantillas adaptadas a partir de las previamente  desarrolladas por:\n",
    "\n",
    "\n",
    "- J.R. Johansson (jrjohansson at gmail.com)\n",
    "\n",
    "Puedes consultar parte de sus [notebooks IPython](http://ipython.org/notebook.html)  en [http://github.com/jrjohansson/scientific-python-lectures](http://github.com/jrjohansson/scientific-python-lectures).\n",
    "o bien en  [http://jrjohansson.github.io](http://jrjohansson.github.io).\n",
    "\n",
    "\n",
    "- Hans Petter Langtangen. Consultar por ejemplo [su repositorio](https://github.com/hplgit/bumpy) usando ejemplos de Física.\n",
    "\n",
    "\n",
    "- Juan Luis Cano, Mabel Delgado y Álex Sáez para su curso de AeroPython. Consulta su [repositorio del curso en GitHub](https://github.com/AeroPython/curso_caminos-2016)\n",
    "\n",
    "Puedes visualizar en  YouTube alguna de las clases en vídeo que forman  parte del [Curso de Python para científicos e ingenieros](http://cacheme.org/curso-online-python-cientifico-ingenieros/) grabado en la Escuela Politécnica Superior de la Universidad de Alicante.\n",
    "\n",
    "---"
   ]
  },
  {
   "cell_type": "markdown",
   "metadata": {},
   "source": [
    "<br/>\n",
    "##### <a rel=\"license\" href=\"http://creativecommons.org/licenses/by/4.0/deed.es\"><img alt=\"Licencia Creative Commons\" style=\"border-width:0\" src=\"http://i.creativecommons.org/l/by/4.0/88x31.png\" /></a><br /><span xmlns:dct=\"http://purl.org/dc/terms/\" property=\"dct:title\">Taller introductorio sobre Python</span> por <span xmlns:cc=\"http://creativecommons.org/ns#\" property=\"cc:attributionName\">Pedro González Rodelas y Fco. Miguel García Olmedo</span> se distribuye bajo una <a rel=\"license\" href=\"http://creativecommons.org/licenses/by/4.0/deed.es\">Licencia Creative Commons Atribución 4.0 Internacional</a>."
   ]
  },
  {
   "cell_type": "markdown",
   "metadata": {},
   "source": []
  }
 ],
 "metadata": {
  "anaconda-cloud": {},
  "kernelspec": {
   "display_name": "Python 3",
   "language": "python",
   "name": "python3"
  },
  "language_info": {
   "codemirror_mode": {
    "name": "ipython",
    "version": 3
   },
   "file_extension": ".py",
   "mimetype": "text/x-python",
   "name": "python",
   "nbconvert_exporter": "python",
   "pygments_lexer": "ipython3",
   "version": "3.8.12"
  }
 },
 "nbformat": 4,
 "nbformat_minor": 2
}
